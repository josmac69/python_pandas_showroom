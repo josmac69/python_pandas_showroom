{
 "cells": [
  {
   "cell_type": "code",
   "execution_count": 1,
   "id": "81d898ad",
   "metadata": {},
   "outputs": [],
   "source": [
    "import pandas as pd\n",
    "import numpy as np"
   ]
  },
  {
   "cell_type": "code",
   "execution_count": 3,
   "id": "1f610f7a",
   "metadata": {},
   "outputs": [
    {
     "name": "stdout",
     "output_type": "stream",
     "text": [
      "Creating a pandas series with datetime index...\n",
      "\n",
      "Resampling the data to weekly frequency and computing the sum...\n",
      "\n",
      "Shifting the data by one week and computing the difference...\n",
      "\n",
      "Computing the rolling mean of the data with a window size of 3...\n"
     ]
    }
   ],
   "source": [
    "# Create a pandas series with datetime index\n",
    "print(\"Creating a pandas series with datetime index...\")\n",
    "dates = pd.date_range(start='2020-01-01', end='2020-01-31')\n",
    "sales = pd.Series(np.random.randint(1, 10, len(dates)), index=dates)\n",
    "\n",
    "# Resample the data to weekly frequency and compute the sum\n",
    "print(\"\\nResampling the data to weekly frequency and computing the sum...\")\n",
    "weekly_sales = sales.resample('W').sum()\n",
    "\n",
    "# Shift the data by one week and compute the difference\n",
    "print(\"\\nShifting the data by one week and computing the difference...\")\n",
    "shifted_sales = weekly_sales.shift(1)\n",
    "sales_diff = weekly_sales - shifted_sales\n",
    "\n",
    "# Compute the rolling mean of the data with a window size of 3\n",
    "print(\"\\nComputing the rolling mean of the data with a window size of 3...\")\n",
    "rolling_mean = sales.rolling(window=3).mean()"
   ]
  },
  {
   "cell_type": "code",
   "execution_count": 4,
   "id": "c4903163",
   "metadata": {},
   "outputs": [
    {
     "name": "stdout",
     "output_type": "stream",
     "text": [
      "\n",
      "Printing the results...\n",
      "\n",
      "Original sales data:\n",
      " 2020-01-01    7\n",
      "2020-01-02    5\n",
      "2020-01-03    1\n",
      "2020-01-04    6\n",
      "2020-01-05    2\n",
      "2020-01-06    4\n",
      "2020-01-07    8\n",
      "2020-01-08    4\n",
      "2020-01-09    5\n",
      "2020-01-10    2\n",
      "2020-01-11    2\n",
      "2020-01-12    5\n",
      "2020-01-13    7\n",
      "2020-01-14    7\n",
      "2020-01-15    6\n",
      "2020-01-16    2\n",
      "2020-01-17    7\n",
      "2020-01-18    8\n",
      "2020-01-19    8\n",
      "2020-01-20    3\n",
      "2020-01-21    1\n",
      "2020-01-22    5\n",
      "2020-01-23    1\n",
      "2020-01-24    6\n",
      "2020-01-25    4\n",
      "2020-01-26    7\n",
      "2020-01-27    6\n",
      "2020-01-28    6\n",
      "2020-01-29    2\n",
      "2020-01-30    2\n",
      "2020-01-31    1\n",
      "Freq: D, dtype: int64\n"
     ]
    }
   ],
   "source": [
    "# Print the results\n",
    "print(\"\\nPrinting the results...\")\n",
    "print(\"\\nOriginal sales data:\\n\", sales)\n"
   ]
  },
  {
   "cell_type": "code",
   "execution_count": 5,
   "id": "47163356",
   "metadata": {},
   "outputs": [
    {
     "name": "stdout",
     "output_type": "stream",
     "text": [
      "\n",
      "Weekly sales data:\n",
      " 2020-01-05    21\n",
      "2020-01-12    30\n",
      "2020-01-19    45\n",
      "2020-01-26    27\n",
      "2020-02-02    17\n",
      "Freq: W-SUN, dtype: int64\n"
     ]
    }
   ],
   "source": [
    "print(\"\\nWeekly sales data:\\n\", weekly_sales)\n"
   ]
  },
  {
   "cell_type": "code",
   "execution_count": 6,
   "id": "fdd14532",
   "metadata": {},
   "outputs": [
    {
     "name": "stdout",
     "output_type": "stream",
     "text": [
      "\n",
      "Shifted sales data:\n",
      " 2020-01-05     NaN\n",
      "2020-01-12    21.0\n",
      "2020-01-19    30.0\n",
      "2020-01-26    45.0\n",
      "2020-02-02    27.0\n",
      "Freq: W-SUN, dtype: float64\n"
     ]
    }
   ],
   "source": [
    "print(\"\\nShifted sales data:\\n\", shifted_sales)\n"
   ]
  },
  {
   "cell_type": "code",
   "execution_count": 7,
   "id": "27874c3d",
   "metadata": {},
   "outputs": [
    {
     "name": "stdout",
     "output_type": "stream",
     "text": [
      "\n",
      "Difference in weekly sales data:\n",
      " 2020-01-05     NaN\n",
      "2020-01-12     9.0\n",
      "2020-01-19    15.0\n",
      "2020-01-26   -18.0\n",
      "2020-02-02   -10.0\n",
      "Freq: W-SUN, dtype: float64\n"
     ]
    }
   ],
   "source": [
    "print(\"\\nDifference in weekly sales data:\\n\", sales_diff)\n"
   ]
  },
  {
   "cell_type": "code",
   "execution_count": 8,
   "id": "2eb34b7e",
   "metadata": {},
   "outputs": [
    {
     "name": "stdout",
     "output_type": "stream",
     "text": [
      "\n",
      "Rolling mean of sales data:\n",
      " 2020-01-01         NaN\n",
      "2020-01-02         NaN\n",
      "2020-01-03    4.333333\n",
      "2020-01-04    4.000000\n",
      "2020-01-05    3.000000\n",
      "2020-01-06    4.000000\n",
      "2020-01-07    4.666667\n",
      "2020-01-08    5.333333\n",
      "2020-01-09    5.666667\n",
      "2020-01-10    3.666667\n",
      "2020-01-11    3.000000\n",
      "2020-01-12    3.000000\n",
      "2020-01-13    4.666667\n",
      "2020-01-14    6.333333\n",
      "2020-01-15    6.666667\n",
      "2020-01-16    5.000000\n",
      "2020-01-17    5.000000\n",
      "2020-01-18    5.666667\n",
      "2020-01-19    7.666667\n",
      "2020-01-20    6.333333\n",
      "2020-01-21    4.000000\n",
      "2020-01-22    3.000000\n",
      "2020-01-23    2.333333\n",
      "2020-01-24    4.000000\n",
      "2020-01-25    3.666667\n",
      "2020-01-26    5.666667\n",
      "2020-01-27    5.666667\n",
      "2020-01-28    6.333333\n",
      "2020-01-29    4.666667\n",
      "2020-01-30    3.333333\n",
      "2020-01-31    1.666667\n",
      "Freq: D, dtype: float64\n"
     ]
    }
   ],
   "source": [
    "print(\"\\nRolling mean of sales data:\\n\", rolling_mean)"
   ]
  },
  {
   "cell_type": "code",
   "execution_count": null,
   "id": "08007e00",
   "metadata": {},
   "outputs": [],
   "source": []
  }
 ],
 "metadata": {
  "kernelspec": {
   "display_name": "Python 3 (ipykernel)",
   "language": "python",
   "name": "python3"
  },
  "language_info": {
   "codemirror_mode": {
    "name": "ipython",
    "version": 3
   },
   "file_extension": ".py",
   "mimetype": "text/x-python",
   "name": "python",
   "nbconvert_exporter": "python",
   "pygments_lexer": "ipython3",
   "version": "3.10.8"
  }
 },
 "nbformat": 4,
 "nbformat_minor": 5
}
